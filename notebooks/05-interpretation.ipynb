{
 "cells": [
  {
   "cell_type": "markdown",
   "id": "5d46a806",
   "metadata": {},
   "source": [
    "# Step 5 — Model Interpretation and Business Insights 📊\n",
    "\n",
    "This notebook focuses on explaining and interpreting our churn prediction model using SHAP (SHapley Additive exPlanations). This is the most important step for converting machine learning results into actionable business insights.\n",
    "\n",
    "## Objectives:\n",
    "\n",
    "1. **Global Explanations:**\n",
    "   - Identify top 5 global drivers of churn\n",
    "   - Create SHAP summary plots\n",
    "   - Understand overall feature importance\n",
    "\n",
    "2. **Local Explanations:**\n",
    "   - Generate SHAP force plots for individual predictions\n",
    "   - Explain why specific customers are predicted to churn\n",
    "   - Provide actionable insights for customer retention\n",
    "\n",
    "3. **Business Intelligence:**\n",
    "   - Translate model insights into business language\n",
    "   - Identify customer segments at highest risk\n",
    "   - Recommend targeted retention strategies\n",
    "\n",
    "4. **Visualizations:**\n",
    "   - SHAP waterfall plots\n",
    "   - Feature interaction plots\n",
    "   - Customer risk profiles\n",
    "\n",
    "**Expected Outcomes**: Clear, actionable insights that non-technical stakeholders can understand and act upon."
   ]
  },
  {
   "cell_type": "code",
   "execution_count": 1,
   "id": "63fd4a8f",
   "metadata": {},
   "outputs": [
    {
     "name": "stdout",
     "output_type": "stream",
     "text": [
      "Best model: Random Forest\n",
      "Model performance: F1=0.6306, ROC AUC=0.8352\n",
      "✓ Loaded model: ../models/best_churn_model_random_forest.joblib\n",
      "✓ Features: 72\n",
      "✓ Dataset shape: (7032, 71)\n",
      "\n",
      "Model details: RandomForestClassifier\n",
      "Key parameters: {'max_depth': 8, 'n_estimators': 50}\n"
     ]
    }
   ],
   "source": [
    "# Imports\n",
    "import pandas as pd\n",
    "import numpy as np\n",
    "import matplotlib.pyplot as plt\n",
    "import seaborn as sns\n",
    "import shap\n",
    "import joblib\n",
    "from pathlib import Path\n",
    "import warnings\n",
    "warnings.filterwarnings('ignore')\n",
    "\n",
    "# Set style for better plots\n",
    "plt.style.use('default')\n",
    "sns.set_palette(\"husl\")\n",
    "\n",
    "# Load the saved model and data\n",
    "models_dir = Path('..') / 'models'\n",
    "data_dir = Path('..') / 'data'\n",
    "\n",
    "# Load model metadata to identify best model\n",
    "metadata = joblib.load(models_dir / 'model_metadata.joblib')\n",
    "best_model_name = metadata['model_name']\n",
    "\n",
    "print(f\"Best model: {best_model_name}\")\n",
    "print(f\"Model performance: F1={metadata['f1_score']:.4f}, ROC AUC={metadata['roc_auc']:.4f}\")\n",
    "\n",
    "# Load the best model\n",
    "model_filename = models_dir / f'best_churn_model_{best_model_name.lower().replace(\" \", \"_\")}.joblib'\n",
    "model = joblib.load(model_filename)\n",
    "\n",
    "# Load feature names\n",
    "feature_names = joblib.load(models_dir / 'feature_names.joblib')\n",
    "\n",
    "# Load data for explanation\n",
    "df = pd.read_csv(data_dir / 'featured_telco_churn.csv')\n",
    "\n",
    "print(f\"✓ Loaded model: {model_filename}\")\n",
    "print(f\"✓ Features: {len(feature_names)}\")\n",
    "print(f\"✓ Dataset shape: {df.shape}\")\n",
    "\n",
    "# Show model type and key parameters\n",
    "print(f\"\\nModel details: {type(model).__name__}\")\n",
    "if hasattr(model, 'get_params'):\n",
    "    key_params = {k: v for k, v in model.get_params().items() if k in ['n_estimators', 'max_depth', 'learning_rate']}\n",
    "    if key_params:\n",
    "        print(f\"Key parameters: {key_params}\")"
   ]
  },
  {
   "cell_type": "code",
   "execution_count": null,
   "id": "ab4b7480",
   "metadata": {},
   "outputs": [],
   "source": []
  }
 ],
 "metadata": {
  "kernelspec": {
   "display_name": ".venv",
   "language": "python",
   "name": "python3"
  },
  "language_info": {
   "codemirror_mode": {
    "name": "ipython",
    "version": 3
   },
   "file_extension": ".py",
   "mimetype": "text/x-python",
   "name": "python",
   "nbconvert_exporter": "python",
   "pygments_lexer": "ipython3",
   "version": "3.11.2"
  }
 },
 "nbformat": 4,
 "nbformat_minor": 5
}
